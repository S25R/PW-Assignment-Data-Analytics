{
 "cells": [
  {
   "cell_type": "code",
   "execution_count": 6,
   "id": "b7e407c9-ccc7-434d-8536-8f221281805c",
   "metadata": {},
   "outputs": [],
   "source": [
    "#1\n",
    "#Python keywords are predefined keywords that are reserved to perform a perticular function  has a special meaning that the languge understands\n",
    "#Example: for, or, bool, int, if, else "
   ]
  },
  {
   "cell_type": "code",
   "execution_count": 8,
   "id": "4d833350-c7ae-45cc-9a5d-ae725afef2af",
   "metadata": {},
   "outputs": [],
   "source": [
    "#2\n",
    "# Identifiers are names given by the user to variable, function, class etc.\n",
    "#Rules: They are case sensitive, cannot start with numbers, can start with alphabets or underscore only, cannot have space inbetween then, if we want to have a variable of two words then we can join them by underscore, the should be any predefined keywords\n",
    "#Valid Identifiers: abc, Abc, _Abc, ab_c"
   ]
  },
  {
   "cell_type": "code",
   "execution_count": 9,
   "id": "c87397f3-47e9-4e6e-9ced-b170fb9dbacd",
   "metadata": {},
   "outputs": [
    {
     "data": {
      "text/plain": [
       "True"
      ]
     },
     "execution_count": 9,
     "metadata": {},
     "output_type": "execute_result"
    }
   ],
   "source": [
    "#3\n",
    "# Comments in python are the stements written in a code that are overlooked by python interpreter. They are written to help understand the code better.\n",
    "# example:\n",
    "a=5 #here I have declared a variable\n",
    "b= bool(a)  #here variable 'b' has the boolean value of variable 'a'\n",
    "type(a) #here I have shown the type of 'a'\n",
    "type(b)  #here I have shown the type of 'b'\n",
    "b  #here I have shown the value of b"
   ]
  },
  {
   "cell_type": "code",
   "execution_count": 12,
   "id": "2098ee01-f062-4bc4-ac7f-74c9646686c2",
   "metadata": {},
   "outputs": [],
   "source": [
    "#4\n",
    "# Identation is required to maintain a proper readability of the code and execute the code properly that helps to understand the code in an easier way. "
   ]
  },
  {
   "cell_type": "code",
   "execution_count": 11,
   "id": "d3a03312-997f-4135-a650-8deb4239bd26",
   "metadata": {},
   "outputs": [],
   "source": [
    "#5\n",
    "#If identation is not followed then there might be cases where the code will not be executed properly. Foor example if the idention of nested if-else will not be correct, then there might be syntax or logical error in the code\n"
   ]
  },
  {
   "cell_type": "code",
   "execution_count": null,
   "id": "48381bff-13a5-4bbc-8434-33d543beb44c",
   "metadata": {},
   "outputs": [],
   "source": [
    "#6\n",
    "#Expression: A combination of values, variables, operators, and function calls that evaluates to a single value.\n",
    "             #Example- 1 + 2, \"hello\" + \"world\", len([1, 2, 3])\n",
    "#Statement: A unit of code that performs an action, such as assigning a value to a variable, calling a function, or controlling the flow of execution.\n",
    "            #Example- x = 1 + 2, print(\"hello world\")"
   ]
  }
 ],
 "metadata": {
  "kernelspec": {
   "display_name": "Python 3 (ipykernel)",
   "language": "python",
   "name": "python3"
  },
  "language_info": {
   "codemirror_mode": {
    "name": "ipython",
    "version": 3
   },
   "file_extension": ".py",
   "mimetype": "text/x-python",
   "name": "python",
   "nbconvert_exporter": "python",
   "pygments_lexer": "ipython3",
   "version": "3.11.7"
  }
 },
 "nbformat": 4,
 "nbformat_minor": 5
}
