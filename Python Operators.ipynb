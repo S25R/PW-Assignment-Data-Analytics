{
 "cells": [
  {
   "cell_type": "markdown",
   "id": "40923451-59ba-4ef9-811a-e98f5b2be07f",
   "metadata": {},
   "source": [
    "1. "
   ]
  },
  {
   "cell_type": "code",
   "execution_count": 1,
   "id": "15be8f45-6f70-4f0a-98b8-a3d0f6f9897e",
   "metadata": {},
   "outputs": [
    {
     "data": {
      "text/plain": [
       "5"
      ]
     },
     "execution_count": 1,
     "metadata": {},
     "output_type": "execute_result"
    }
   ],
   "source": [
    "#sum\n",
    "2+3"
   ]
  },
  {
   "cell_type": "code",
   "execution_count": 2,
   "id": "24e3f706-dcd2-445a-b1f6-5f550e664768",
   "metadata": {},
   "outputs": [
    {
     "data": {
      "text/plain": [
       "-1"
      ]
     },
     "execution_count": 2,
     "metadata": {},
     "output_type": "execute_result"
    }
   ],
   "source": [
    "#difference\n",
    "2-3"
   ]
  },
  {
   "cell_type": "code",
   "execution_count": 3,
   "id": "302d9ee6-c388-4ddc-af92-95c47a4c2050",
   "metadata": {},
   "outputs": [
    {
     "data": {
      "text/plain": [
       "6"
      ]
     },
     "execution_count": 3,
     "metadata": {},
     "output_type": "execute_result"
    }
   ],
   "source": [
    "#product\n",
    "2*3"
   ]
  },
  {
   "cell_type": "code",
   "execution_count": 4,
   "id": "21749996-d11d-448c-a252-a0e3388bd986",
   "metadata": {},
   "outputs": [
    {
     "data": {
      "text/plain": [
       "0.6666666666666666"
      ]
     },
     "execution_count": 4,
     "metadata": {},
     "output_type": "execute_result"
    }
   ],
   "source": [
    "#quotient\n",
    "2/3"
   ]
  },
  {
   "cell_type": "markdown",
   "id": "d6da9957-b7b9-4114-acd2-67198bf7a49a",
   "metadata": {},
   "source": [
    "2."
   ]
  },
  {
   "cell_type": "code",
   "execution_count": 15,
   "id": "970944ef-f5e0-459d-80cc-fb2accc9d468",
   "metadata": {},
   "outputs": [],
   "source": [
    "a=10"
   ]
  },
  {
   "cell_type": "code",
   "execution_count": 16,
   "id": "da03628c-fe86-4fad-9cb4-ec7a7dba1306",
   "metadata": {},
   "outputs": [
    {
     "data": {
      "text/plain": [
       "15"
      ]
     },
     "execution_count": 16,
     "metadata": {},
     "output_type": "execute_result"
    }
   ],
   "source": [
    "a+=5\n",
    "a"
   ]
  },
  {
   "cell_type": "code",
   "execution_count": 18,
   "id": "df3acb06-e3cd-4884-a946-e44e05132e02",
   "metadata": {},
   "outputs": [
    {
     "data": {
      "text/plain": [
       "3"
      ]
     },
     "execution_count": 18,
     "metadata": {},
     "output_type": "execute_result"
    }
   ],
   "source": [
    "a-=12\n",
    "a"
   ]
  },
  {
   "cell_type": "code",
   "execution_count": 19,
   "id": "4de10cf1-90cb-4456-a462-8c169d26cb2f",
   "metadata": {},
   "outputs": [
    {
     "data": {
      "text/plain": [
       "15"
      ]
     },
     "execution_count": 19,
     "metadata": {},
     "output_type": "execute_result"
    }
   ],
   "source": [
    "a*=5\n",
    "a"
   ]
  },
  {
   "cell_type": "code",
   "execution_count": 20,
   "id": "358f43e7-46c5-4762-821b-a41a4159f278",
   "metadata": {},
   "outputs": [
    {
     "data": {
      "text/plain": [
       "5.0"
      ]
     },
     "execution_count": 20,
     "metadata": {},
     "output_type": "execute_result"
    }
   ],
   "source": [
    "a/=3\n",
    "a"
   ]
  },
  {
   "cell_type": "code",
   "execution_count": 21,
   "id": "d72170c6-7116-43d3-b4d7-38b7b615ad47",
   "metadata": {},
   "outputs": [
    {
     "data": {
      "text/plain": [
       "2.0"
      ]
     },
     "execution_count": 21,
     "metadata": {},
     "output_type": "execute_result"
    }
   ],
   "source": [
    "a%=3\n",
    "a"
   ]
  },
  {
   "cell_type": "markdown",
   "id": "bf953b7e-9fde-4a7c-ab95-66b9520adb1b",
   "metadata": {},
   "source": [
    "3."
   ]
  },
  {
   "cell_type": "markdown",
   "id": "6da8281d-e78d-472d-8651-1b826c10716c",
   "metadata": {},
   "source": [
    "#### Method 1"
   ]
  },
  {
   "cell_type": "code",
   "execution_count": 22,
   "id": "8fe1b77d-6c94-4730-86ce-563b19784040",
   "metadata": {},
   "outputs": [
    {
     "data": {
      "text/plain": [
       "True"
      ]
     },
     "execution_count": 22,
     "metadata": {},
     "output_type": "execute_result"
    }
   ],
   "source": [
    "5>3"
   ]
  },
  {
   "cell_type": "code",
   "execution_count": 23,
   "id": "5eeedcf1-9f27-4f3b-8cf5-b290adb0342b",
   "metadata": {},
   "outputs": [
    {
     "data": {
      "text/plain": [
       "False"
      ]
     },
     "execution_count": 23,
     "metadata": {},
     "output_type": "execute_result"
    }
   ],
   "source": [
    "4<2"
   ]
  },
  {
   "cell_type": "markdown",
   "id": "b7d2440a-4b35-43c1-88c1-160f8a083e4b",
   "metadata": {},
   "source": [
    "#### Method 2"
   ]
  },
  {
   "cell_type": "code",
   "execution_count": 24,
   "id": "70f20ec6-73ce-4f91-9ed3-d3d2c2aaa51d",
   "metadata": {},
   "outputs": [],
   "source": [
    "a= 5\n",
    "b=7"
   ]
  },
  {
   "cell_type": "code",
   "execution_count": 27,
   "id": "6e2667b3-1c1b-4165-8c52-f446920774cb",
   "metadata": {},
   "outputs": [
    {
     "name": "stdout",
     "output_type": "stream",
     "text": [
      "b>a\n"
     ]
    }
   ],
   "source": [
    "if(a>b== 1):\n",
    "    print('a>b')\n",
    "else:\n",
    "    print('b>a')"
   ]
  },
  {
   "cell_type": "markdown",
   "id": "3749fb29-15bd-49c7-8b5c-d7b382490c01",
   "metadata": {},
   "source": [
    "4."
   ]
  },
  {
   "cell_type": "code",
   "execution_count": 38,
   "id": "5c2cafae-c387-4e6b-8e86-5e7724aef4c4",
   "metadata": {},
   "outputs": [],
   "source": [
    "a=1\n",
    "b=0"
   ]
  },
  {
   "cell_type": "code",
   "execution_count": 42,
   "id": "f0848644-6027-4edd-96b6-a9c386c332fa",
   "metadata": {},
   "outputs": [
    {
     "name": "stdout",
     "output_type": "stream",
     "text": [
      "no match\n"
     ]
    }
   ],
   "source": [
    "if (a and b == 1):\n",
    "    print('match')\n",
    "else:\n",
    "    print ('no match')"
   ]
  },
  {
   "cell_type": "code",
   "execution_count": 43,
   "id": "c9f2f2da-afb6-4c11-b893-72ee7e1b677b",
   "metadata": {},
   "outputs": [
    {
     "name": "stdout",
     "output_type": "stream",
     "text": [
      "match\n"
     ]
    }
   ],
   "source": [
    "if (a or b == 1):\n",
    "    print('match')\n",
    "else:\n",
    "    print ('no match')"
   ]
  },
  {
   "cell_type": "code",
   "execution_count": 44,
   "id": "4c3784de-a7d9-4ef7-8ac7-2a147da586ab",
   "metadata": {},
   "outputs": [
    {
     "name": "stdout",
     "output_type": "stream",
     "text": [
      "match\n"
     ]
    }
   ],
   "source": [
    "if (not a == 0):\n",
    "    print('match')\n",
    "else:\n",
    "    print ('no match')"
   ]
  },
  {
   "cell_type": "code",
   "execution_count": 45,
   "id": "1a4002af-d668-4b66-8aa5-6b76aac3b557",
   "metadata": {},
   "outputs": [
    {
     "name": "stdout",
     "output_type": "stream",
     "text": [
      "no match\n"
     ]
    }
   ],
   "source": [
    "if (not b == 0):\n",
    "    print('match')\n",
    "else:\n",
    "    print ('no match')"
   ]
  },
  {
   "cell_type": "markdown",
   "id": "f31b4630-408b-42de-9201-6db2a68ebe84",
   "metadata": {},
   "source": [
    "5."
   ]
  },
  {
   "cell_type": "code",
   "execution_count": 48,
   "id": "ef94a216-9655-4bfd-ab7a-06f39f1c1451",
   "metadata": {},
   "outputs": [],
   "source": [
    "a=['xyz', 3,4.5]\n",
    "b=a\n"
   ]
  },
  {
   "cell_type": "code",
   "execution_count": 49,
   "id": "b50881f0-4e6b-48b4-87ef-787daf791c3c",
   "metadata": {},
   "outputs": [
    {
     "data": {
      "text/plain": [
       "False"
      ]
     },
     "execution_count": 49,
     "metadata": {},
     "output_type": "execute_result"
    }
   ],
   "source": [
    "b is not a"
   ]
  },
  {
   "cell_type": "code",
   "execution_count": 50,
   "id": "fdf3d428-3d54-48e1-95d3-cf835d5ddf59",
   "metadata": {},
   "outputs": [
    {
     "data": {
      "text/plain": [
       "True"
      ]
     },
     "execution_count": 50,
     "metadata": {},
     "output_type": "execute_result"
    }
   ],
   "source": [
    "b is a"
   ]
  },
  {
   "cell_type": "code",
   "execution_count": 51,
   "id": "02e89d10-3253-4a52-94d8-6186fffe1c78",
   "metadata": {},
   "outputs": [],
   "source": [
    "b= 'xyz'"
   ]
  },
  {
   "cell_type": "code",
   "execution_count": 52,
   "id": "75bac380-e2d3-4d14-bd53-f4847dca6f12",
   "metadata": {},
   "outputs": [
    {
     "data": {
      "text/plain": [
       "False"
      ]
     },
     "execution_count": 52,
     "metadata": {},
     "output_type": "execute_result"
    }
   ],
   "source": [
    "b is a"
   ]
  },
  {
   "cell_type": "code",
   "execution_count": null,
   "id": "7ed46ad7-09e8-45fe-bbc3-dca9721ccd04",
   "metadata": {},
   "outputs": [],
   "source": []
  },
  {
   "cell_type": "markdown",
   "id": "b30fb4bc-33b9-466b-a1f3-422f0a8ab2a1",
   "metadata": {},
   "source": [
    "6."
   ]
  },
  {
   "cell_type": "code",
   "execution_count": 62,
   "id": "efea2e42-47b9-4afb-998a-18c5b326e912",
   "metadata": {},
   "outputs": [],
   "source": [
    "### showing the binary of number 7 and 9"
   ]
  },
  {
   "cell_type": "code",
   "execution_count": 55,
   "id": "755786af-8528-4f9a-81ae-03040a5eff22",
   "metadata": {},
   "outputs": [
    {
     "data": {
      "text/plain": [
       "'0b111'"
      ]
     },
     "execution_count": 55,
     "metadata": {},
     "output_type": "execute_result"
    }
   ],
   "source": [
    "bin(7)"
   ]
  },
  {
   "cell_type": "code",
   "execution_count": 56,
   "id": "ebaabec8-614b-47a7-adf1-7b82da3314b6",
   "metadata": {},
   "outputs": [
    {
     "data": {
      "text/plain": [
       "'0b1001'"
      ]
     },
     "execution_count": 56,
     "metadata": {},
     "output_type": "execute_result"
    }
   ],
   "source": [
    "bin(9)"
   ]
  },
  {
   "cell_type": "code",
   "execution_count": 63,
   "id": "89adc669-3763-44e1-ac2c-e9fcc62729de",
   "metadata": {},
   "outputs": [],
   "source": [
    "## perfroming operations"
   ]
  },
  {
   "cell_type": "code",
   "execution_count": 57,
   "id": "9fb3f403-91c2-43ee-acef-a3e0d84fff6b",
   "metadata": {},
   "outputs": [
    {
     "data": {
      "text/plain": [
       "1"
      ]
     },
     "execution_count": 57,
     "metadata": {},
     "output_type": "execute_result"
    }
   ],
   "source": [
    "7 & 9"
   ]
  },
  {
   "cell_type": "code",
   "execution_count": 58,
   "id": "1ce0fdef-4cde-4eef-a0ca-c89279ae4fac",
   "metadata": {},
   "outputs": [
    {
     "data": {
      "text/plain": [
       "'0b1'"
      ]
     },
     "execution_count": 58,
     "metadata": {},
     "output_type": "execute_result"
    }
   ],
   "source": [
    "bin(1)"
   ]
  },
  {
   "cell_type": "code",
   "execution_count": 59,
   "id": "3040ac5f-fb93-40cb-b6c2-6842d0a24c50",
   "metadata": {},
   "outputs": [
    {
     "data": {
      "text/plain": [
       "15"
      ]
     },
     "execution_count": 59,
     "metadata": {},
     "output_type": "execute_result"
    }
   ],
   "source": [
    "7| 9"
   ]
  },
  {
   "cell_type": "code",
   "execution_count": 60,
   "id": "b341eee2-fc8e-4d87-ad5f-75596ccf5374",
   "metadata": {},
   "outputs": [
    {
     "data": {
      "text/plain": [
       "'0b1111'"
      ]
     },
     "execution_count": 60,
     "metadata": {},
     "output_type": "execute_result"
    }
   ],
   "source": [
    "bin (15)"
   ]
  },
  {
   "cell_type": "code",
   "execution_count": 64,
   "id": "7da85a1c-4f5a-409c-a8f2-973a2d492d00",
   "metadata": {},
   "outputs": [
    {
     "data": {
      "text/plain": [
       "14"
      ]
     },
     "execution_count": 64,
     "metadata": {},
     "output_type": "execute_result"
    }
   ],
   "source": [
    "7^9"
   ]
  },
  {
   "cell_type": "code",
   "execution_count": 67,
   "id": "66c40e3d-836f-4af4-bec8-c304653e4450",
   "metadata": {},
   "outputs": [
    {
     "data": {
      "text/plain": [
       "'0b1110'"
      ]
     },
     "execution_count": 67,
     "metadata": {},
     "output_type": "execute_result"
    }
   ],
   "source": [
    "bin (14)"
   ]
  },
  {
   "cell_type": "code",
   "execution_count": 68,
   "id": "a436d6bc-6641-4a67-856e-5d3c9797a689",
   "metadata": {},
   "outputs": [
    {
     "data": {
      "text/plain": [
       "-8"
      ]
     },
     "execution_count": 68,
     "metadata": {},
     "output_type": "execute_result"
    }
   ],
   "source": [
    "~7"
   ]
  },
  {
   "cell_type": "code",
   "execution_count": 73,
   "id": "2eed8b25-d24d-4a53-82a4-b1c2d20bea45",
   "metadata": {},
   "outputs": [
    {
     "data": {
      "text/plain": [
       "28"
      ]
     },
     "execution_count": 73,
     "metadata": {},
     "output_type": "execute_result"
    }
   ],
   "source": [
    "7<<2"
   ]
  },
  {
   "cell_type": "code",
   "execution_count": 74,
   "id": "ee2fec44-a4d4-4976-afa4-53577a59dff9",
   "metadata": {},
   "outputs": [
    {
     "data": {
      "text/plain": [
       "'0b11100'"
      ]
     },
     "execution_count": 74,
     "metadata": {},
     "output_type": "execute_result"
    }
   ],
   "source": [
    "bin(28)"
   ]
  },
  {
   "cell_type": "code",
   "execution_count": 75,
   "id": "83dc84f7-9e41-42a1-b809-d29a7cd1f187",
   "metadata": {},
   "outputs": [
    {
     "data": {
      "text/plain": [
       "0"
      ]
     },
     "execution_count": 75,
     "metadata": {},
     "output_type": "execute_result"
    }
   ],
   "source": [
    "9>>4"
   ]
  },
  {
   "cell_type": "code",
   "execution_count": 76,
   "id": "d180dc21-d838-4aea-a446-61fef72d5875",
   "metadata": {},
   "outputs": [
    {
     "data": {
      "text/plain": [
       "'0b0'"
      ]
     },
     "execution_count": 76,
     "metadata": {},
     "output_type": "execute_result"
    }
   ],
   "source": [
    "bin(0)"
   ]
  },
  {
   "cell_type": "markdown",
   "id": "985be375-83ec-4f35-bda5-8fd8e5ea91f5",
   "metadata": {},
   "source": [
    "7."
   ]
  },
  {
   "cell_type": "code",
   "execution_count": 77,
   "id": "200b6424-8826-4955-b5b2-2d2918a18144",
   "metadata": {},
   "outputs": [],
   "source": [
    "a=7"
   ]
  },
  {
   "cell_type": "code",
   "execution_count": 78,
   "id": "ddba12f1-3409-4fd7-9a7d-cbbef28ef112",
   "metadata": {},
   "outputs": [
    {
     "data": {
      "text/plain": [
       "-7"
      ]
     },
     "execution_count": 78,
     "metadata": {},
     "output_type": "execute_result"
    }
   ],
   "source": [
    "-a"
   ]
  },
  {
   "cell_type": "code",
   "execution_count": 79,
   "id": "49483760-23bd-4495-8454-133128770297",
   "metadata": {},
   "outputs": [
    {
     "data": {
      "text/plain": [
       "7"
      ]
     },
     "execution_count": 79,
     "metadata": {},
     "output_type": "execute_result"
    }
   ],
   "source": [
    "+a"
   ]
  },
  {
   "cell_type": "code",
   "execution_count": 81,
   "id": "c6d68337-0bce-4d41-a7f0-4aa9a687eadd",
   "metadata": {},
   "outputs": [
    {
     "data": {
      "text/plain": [
       "-8"
      ]
     },
     "execution_count": 81,
     "metadata": {},
     "output_type": "execute_result"
    }
   ],
   "source": [
    "~a"
   ]
  },
  {
   "cell_type": "markdown",
   "id": "f84c848b-8080-4e82-8ff0-37dba249b7a6",
   "metadata": {},
   "source": [
    "8."
   ]
  },
  {
   "cell_type": "code",
   "execution_count": 2,
   "id": "4d615d45-9601-466d-a2ce-cf575a4a45f6",
   "metadata": {},
   "outputs": [
    {
     "name": "stdin",
     "output_type": "stream",
     "text": [
      "Enter age 55\n"
     ]
    },
    {
     "name": "stdout",
     "output_type": "stream",
     "text": [
      "eligible to vote\n"
     ]
    }
   ],
   "source": [
    "age = int(input('Enter age'))\n",
    "print('eligible to vote' if age>=18 else 'underage')"
   ]
  },
  {
   "cell_type": "code",
   "execution_count": null,
   "id": "20d0e2f7-2868-4e5d-9035-4e1faaaa09ee",
   "metadata": {},
   "outputs": [],
   "source": []
  }
 ],
 "metadata": {
  "kernelspec": {
   "display_name": "Python 3 (ipykernel)",
   "language": "python",
   "name": "python3"
  },
  "language_info": {
   "codemirror_mode": {
    "name": "ipython",
    "version": 3
   },
   "file_extension": ".py",
   "mimetype": "text/x-python",
   "name": "python",
   "nbconvert_exporter": "python",
   "pygments_lexer": "ipython3",
   "version": "3.11.7"
  }
 },
 "nbformat": 4,
 "nbformat_minor": 5
}
