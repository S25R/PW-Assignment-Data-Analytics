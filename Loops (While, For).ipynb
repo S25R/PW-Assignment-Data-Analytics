{
 "cells": [
  {
   "cell_type": "code",
   "execution_count": 1,
   "id": "2208596e-c015-4052-9b2f-a2305cf0f9d3",
   "metadata": {},
   "outputs": [],
   "source": [
    "#1"
   ]
  },
  {
   "cell_type": "code",
   "execution_count": 3,
   "id": "cf680ac7-9da5-4019-903f-1e5d6d542a60",
   "metadata": {},
   "outputs": [
    {
     "name": "stdout",
     "output_type": "stream",
     "text": [
      "1\n",
      "2\n",
      "3\n",
      "4\n",
      "5\n"
     ]
    }
   ],
   "source": [
    "i=1\n",
    "while i<=5:\n",
    "    print (i)\n",
    "    i+=1\n",
    "    "
   ]
  },
  {
   "cell_type": "code",
   "execution_count": null,
   "id": "d6e6054d-4c90-4f3c-824a-72d2ed77cccf",
   "metadata": {},
   "outputs": [],
   "source": [
    "#2"
   ]
  },
  {
   "cell_type": "code",
   "execution_count": 8,
   "id": "d21b32b4-dabb-4ba6-8bbc-79cd66567b9a",
   "metadata": {},
   "outputs": [
    {
     "name": "stdout",
     "output_type": "stream",
     "text": [
      "55\n"
     ]
    }
   ],
   "source": [
    "i=0\n",
    "j=1\n",
    "while j<=10:\n",
    "    i=i+j\n",
    "    j=j+1\n",
    "print (i)\n",
    "    "
   ]
  },
  {
   "cell_type": "code",
   "execution_count": 9,
   "id": "50216549-4adb-4c42-9e1f-3115578ea8f0",
   "metadata": {},
   "outputs": [],
   "source": [
    "#3"
   ]
  },
  {
   "cell_type": "code",
   "execution_count": 15,
   "id": "05668d30-8a08-4c26-8084-08399bc7a411",
   "metadata": {},
   "outputs": [
    {
     "name": "stdout",
     "output_type": "stream",
     "text": [
      "The factorial of 4 is 24\n"
     ]
    }
   ],
   "source": [
    "fact=1\n",
    "for i in range(1,5):\n",
    "    fact=fact*i\n",
    "print(\"The factorial of 4 is\", fact)"
   ]
  },
  {
   "cell_type": "code",
   "execution_count": 16,
   "id": "5d864286-5417-4fed-8c73-49c5f4e83919",
   "metadata": {},
   "outputs": [],
   "source": [
    "#4"
   ]
  },
  {
   "cell_type": "code",
   "execution_count": 18,
   "id": "332d2ffb-95ef-4ff9-bd22-99083830c85f",
   "metadata": {},
   "outputs": [
    {
     "name": "stdout",
     "output_type": "stream",
     "text": [
      "the number of vowels is  11\n"
     ]
    }
   ],
   "source": [
    "string= \"ThIs is A tEst senTencE fOr pracTiCe\"\n",
    "vowels= ['a','e','i','o','u','A','E','I','O','U']\n",
    "count=0\n",
    "for char in string:\n",
    "    if char in vowels:\n",
    "        count= count +1\n",
    "print(\"the number of vowels is \",count)"
   ]
  },
  {
   "cell_type": "code",
   "execution_count": 19,
   "id": "08550e7d-1b2f-449e-b7db-d144695d7ee2",
   "metadata": {},
   "outputs": [],
   "source": [
    "#5"
   ]
  },
  {
   "cell_type": "code",
   "execution_count": 23,
   "id": "613a4d6e-5a5e-41ea-98ae-72235abb90a7",
   "metadata": {},
   "outputs": [
    {
     "name": "stdout",
     "output_type": "stream",
     "text": [
      "**********\n",
      "*********\n",
      "********\n",
      "*******\n",
      "******\n",
      "*****\n",
      "****\n",
      "***\n",
      "**\n",
      "*\n"
     ]
    }
   ],
   "source": [
    "for i in range (10,0,-1):\n",
    "    for j in range(1,i+1):\n",
    "        print('*', end='')\n",
    "    print()"
   ]
  },
  {
   "cell_type": "code",
   "execution_count": 24,
   "id": "dda45fcb-dfb9-4f89-9beb-b2ae1415a29b",
   "metadata": {},
   "outputs": [],
   "source": [
    "#5"
   ]
  },
  {
   "cell_type": "code",
   "execution_count": 39,
   "id": "61c417d1-5f26-4ccd-b323-1937eddf42ec",
   "metadata": {},
   "outputs": [
    {
     "name": "stdout",
     "output_type": "stream",
     "text": [
      "25 X 1 = 25\n",
      "25 X 2 = 50\n",
      "25 X 3 = 75\n",
      "25 X 4 = 100\n",
      "25 X 5 = 125\n",
      "25 X 6 = 150\n",
      "25 X 7 = 175\n",
      "25 X 8 = 200\n",
      "25 X 9 = 225\n",
      "25 X 10 = 250\n"
     ]
    }
   ],
   "source": [
    "j=25\n",
    "for i in range(1,11):\n",
    "    k= j*i\n",
    "    print (j,'X', i, '=', k)\n",
    "i+=1"
   ]
  },
  {
   "cell_type": "code",
   "execution_count": null,
   "id": "1f1e1d0a-163e-4ca2-b492-ce7c80ec9242",
   "metadata": {},
   "outputs": [],
   "source": []
  }
 ],
 "metadata": {
  "kernelspec": {
   "display_name": "Python 3 (ipykernel)",
   "language": "python",
   "name": "python3"
  },
  "language_info": {
   "codemirror_mode": {
    "name": "ipython",
    "version": 3
   },
   "file_extension": ".py",
   "mimetype": "text/x-python",
   "name": "python",
   "nbconvert_exporter": "python",
   "pygments_lexer": "ipython3",
   "version": "3.11.7"
  }
 },
 "nbformat": 4,
 "nbformat_minor": 5
}
