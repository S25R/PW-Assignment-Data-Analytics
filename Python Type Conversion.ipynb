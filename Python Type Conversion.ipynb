{
 "cells": [
  {
   "cell_type": "markdown",
   "id": "86435476-c952-451d-8f19-ff9edb896599",
   "metadata": {},
   "source": [
    "1.Covert an integer to a floatig-poit number."
   ]
  },
  {
   "cell_type": "code",
   "execution_count": 1,
   "id": "3c605296-4da7-4d45-9b03-4a74f57b4222",
   "metadata": {},
   "outputs": [
    {
     "data": {
      "text/plain": [
       "int"
      ]
     },
     "execution_count": 1,
     "metadata": {},
     "output_type": "execute_result"
    }
   ],
   "source": [
    "a=5\n",
    "type(a) #to show that I have taken an integer"
   ]
  },
  {
   "cell_type": "code",
   "execution_count": 8,
   "id": "6a1783c4-f40e-4e24-8849-f2bece01978f",
   "metadata": {},
   "outputs": [
    {
     "data": {
      "text/plain": [
       "5.0"
      ]
     },
     "execution_count": 8,
     "metadata": {},
     "output_type": "execute_result"
    }
   ],
   "source": [
    "b=float(a)\n",
    "b"
   ]
  },
  {
   "cell_type": "code",
   "execution_count": 9,
   "id": "5d9cc37d-c46b-408d-bc60-e67b550d0588",
   "metadata": {},
   "outputs": [
    {
     "data": {
      "text/plain": [
       "float"
      ]
     },
     "execution_count": 9,
     "metadata": {},
     "output_type": "execute_result"
    }
   ],
   "source": [
    "type(b)"
   ]
  },
  {
   "cell_type": "code",
   "execution_count": null,
   "id": "da479a95-822e-4be4-be30-d9dd5769316a",
   "metadata": {},
   "outputs": [],
   "source": []
  },
  {
   "cell_type": "markdown",
   "id": "e3cb3770-291b-47c5-909e-a395e2dc7ac3",
   "metadata": {},
   "source": [
    "2.Convert a float to an integer."
   ]
  },
  {
   "cell_type": "code",
   "execution_count": 10,
   "id": "f754c737-ce00-41f0-b0e5-ab65ed3a117c",
   "metadata": {},
   "outputs": [],
   "source": [
    "a=5.5"
   ]
  },
  {
   "cell_type": "code",
   "execution_count": 11,
   "id": "23fd3333-4e46-4f67-a5c4-b4373bbcd88c",
   "metadata": {},
   "outputs": [
    {
     "data": {
      "text/plain": [
       "float"
      ]
     },
     "execution_count": 11,
     "metadata": {},
     "output_type": "execute_result"
    }
   ],
   "source": [
    "type(a)"
   ]
  },
  {
   "cell_type": "code",
   "execution_count": 12,
   "id": "3d152abd-8ec3-4267-92a5-4b0e76702c15",
   "metadata": {},
   "outputs": [],
   "source": [
    "b= int(a)"
   ]
  },
  {
   "cell_type": "code",
   "execution_count": 13,
   "id": "bbd90802-7cf7-4b5d-8265-9f6163278342",
   "metadata": {},
   "outputs": [
    {
     "data": {
      "text/plain": [
       "5"
      ]
     },
     "execution_count": 13,
     "metadata": {},
     "output_type": "execute_result"
    }
   ],
   "source": [
    "b"
   ]
  },
  {
   "cell_type": "code",
   "execution_count": 14,
   "id": "4e45a706-f82a-4282-98f3-a843baf81eea",
   "metadata": {},
   "outputs": [
    {
     "data": {
      "text/plain": [
       "int"
      ]
     },
     "execution_count": 14,
     "metadata": {},
     "output_type": "execute_result"
    }
   ],
   "source": [
    "type(b)"
   ]
  },
  {
   "cell_type": "code",
   "execution_count": null,
   "id": "7dbd3933-0505-43b3-a7c2-021af0af9dde",
   "metadata": {},
   "outputs": [],
   "source": []
  },
  {
   "cell_type": "markdown",
   "id": "8bcf249c-1634-4f3f-836b-91b619deac4f",
   "metadata": {},
   "source": [
    "3.Convert a integer to a string."
   ]
  },
  {
   "cell_type": "code",
   "execution_count": 15,
   "id": "086c99ec-90e4-498e-a7fe-679df18db791",
   "metadata": {},
   "outputs": [],
   "source": [
    "a= 5"
   ]
  },
  {
   "cell_type": "code",
   "execution_count": 16,
   "id": "12f989fa-4f76-4780-b137-96d1141d3639",
   "metadata": {},
   "outputs": [
    {
     "data": {
      "text/plain": [
       "int"
      ]
     },
     "execution_count": 16,
     "metadata": {},
     "output_type": "execute_result"
    }
   ],
   "source": [
    "type(a)"
   ]
  },
  {
   "cell_type": "code",
   "execution_count": 17,
   "id": "194045d1-0dd8-4b7d-9c20-1c904d7ab146",
   "metadata": {},
   "outputs": [],
   "source": [
    "b=(str(a))"
   ]
  },
  {
   "cell_type": "code",
   "execution_count": 18,
   "id": "4997aac3-15a7-4999-b45a-964255cb4be3",
   "metadata": {},
   "outputs": [
    {
     "data": {
      "text/plain": [
       "'5'"
      ]
     },
     "execution_count": 18,
     "metadata": {},
     "output_type": "execute_result"
    }
   ],
   "source": [
    "b"
   ]
  },
  {
   "cell_type": "code",
   "execution_count": 19,
   "id": "6d8ec432-dbae-446f-b114-49c3881cd047",
   "metadata": {},
   "outputs": [
    {
     "data": {
      "text/plain": [
       "str"
      ]
     },
     "execution_count": 19,
     "metadata": {},
     "output_type": "execute_result"
    }
   ],
   "source": [
    "type(b)"
   ]
  },
  {
   "cell_type": "code",
   "execution_count": null,
   "id": "b9cc9a08-cff2-4a6c-a5b5-1bd5efb951df",
   "metadata": {},
   "outputs": [],
   "source": []
  },
  {
   "cell_type": "markdown",
   "id": "2bff8121-9c3b-439f-9c35-9535cf1a0a94",
   "metadata": {},
   "source": [
    "4.Convert a list to a tuple."
   ]
  },
  {
   "cell_type": "code",
   "execution_count": 20,
   "id": "3eaf9ffc-fb98-4659-b04e-1cf2c68ed625",
   "metadata": {},
   "outputs": [],
   "source": [
    "a=[a,b,33,45, 'assignment']"
   ]
  },
  {
   "cell_type": "code",
   "execution_count": 21,
   "id": "1df08484-5790-42b2-acd9-759f74343923",
   "metadata": {},
   "outputs": [
    {
     "data": {
      "text/plain": [
       "list"
      ]
     },
     "execution_count": 21,
     "metadata": {},
     "output_type": "execute_result"
    }
   ],
   "source": [
    "type(a)"
   ]
  },
  {
   "cell_type": "code",
   "execution_count": 22,
   "id": "a7799dd2-6ee4-467c-984b-b4cda2cde405",
   "metadata": {},
   "outputs": [],
   "source": [
    "b= tuple(a)"
   ]
  },
  {
   "cell_type": "code",
   "execution_count": 23,
   "id": "194a47c4-43db-4d70-b1d0-8a108aec28c2",
   "metadata": {},
   "outputs": [
    {
     "data": {
      "text/plain": [
       "(5, '5', 33, 45, 'assignment')"
      ]
     },
     "execution_count": 23,
     "metadata": {},
     "output_type": "execute_result"
    }
   ],
   "source": [
    "b"
   ]
  },
  {
   "cell_type": "code",
   "execution_count": 24,
   "id": "36332f96-e5ac-4769-a0b8-afbacd2b603c",
   "metadata": {},
   "outputs": [
    {
     "data": {
      "text/plain": [
       "tuple"
      ]
     },
     "execution_count": 24,
     "metadata": {},
     "output_type": "execute_result"
    }
   ],
   "source": [
    "type(b)"
   ]
  },
  {
   "cell_type": "code",
   "execution_count": null,
   "id": "37a189c4-6d44-4a1c-a5d7-2c11866bada3",
   "metadata": {},
   "outputs": [],
   "source": []
  },
  {
   "cell_type": "markdown",
   "id": "f80f3f6a-8c1d-4f85-ac29-fc7c6cbb5cb7",
   "metadata": {},
   "source": [
    "5.Convert a tuple to a list."
   ]
  },
  {
   "cell_type": "code",
   "execution_count": 25,
   "id": "993c8e9f-66ab-42f0-9986-31b72b94e5f2",
   "metadata": {},
   "outputs": [],
   "source": [
    "b=(a,b,33,45, 'assignment')"
   ]
  },
  {
   "cell_type": "code",
   "execution_count": 26,
   "id": "ea5f3f80-fefc-4d96-a1af-30b801e87c9e",
   "metadata": {},
   "outputs": [
    {
     "data": {
      "text/plain": [
       "tuple"
      ]
     },
     "execution_count": 26,
     "metadata": {},
     "output_type": "execute_result"
    }
   ],
   "source": [
    "type(b)"
   ]
  },
  {
   "cell_type": "code",
   "execution_count": 29,
   "id": "52bd6f3a-08ff-4dba-b8f4-28e6ff899ed6",
   "metadata": {},
   "outputs": [],
   "source": [
    "a= list(b)"
   ]
  },
  {
   "cell_type": "code",
   "execution_count": 30,
   "id": "07aec8c5-3431-4977-a7b8-08679df329ba",
   "metadata": {},
   "outputs": [
    {
     "data": {
      "text/plain": [
       "[[5, '5', 33, 45, 'assignment'],\n",
       " (5, '5', 33, 45, 'assignment'),\n",
       " 33,\n",
       " 45,\n",
       " 'assignment']"
      ]
     },
     "execution_count": 30,
     "metadata": {},
     "output_type": "execute_result"
    }
   ],
   "source": [
    "a"
   ]
  },
  {
   "cell_type": "code",
   "execution_count": 31,
   "id": "b01a3e5b-4297-4d28-a009-f149b6c96896",
   "metadata": {},
   "outputs": [
    {
     "data": {
      "text/plain": [
       "list"
      ]
     },
     "execution_count": 31,
     "metadata": {},
     "output_type": "execute_result"
    }
   ],
   "source": [
    "type(a)"
   ]
  },
  {
   "cell_type": "code",
   "execution_count": null,
   "id": "b7ccc5f7-ae53-4cf0-a8a4-23f524659fa9",
   "metadata": {},
   "outputs": [],
   "source": []
  },
  {
   "cell_type": "markdown",
   "id": "c46c2b7d-0f81-405f-abc2-0b0b64134761",
   "metadata": {},
   "source": [
    "6.Convert a decimal number to binary."
   ]
  },
  {
   "cell_type": "markdown",
   "id": "8393e268-6b42-4cff-a04b-2d11844e2c8e",
   "metadata": {},
   "source": [
    "a= 5.5"
   ]
  },
  {
   "cell_type": "code",
   "execution_count": 33,
   "id": "84fe8c82-0e4c-4483-81f1-7dc0e483c214",
   "metadata": {},
   "outputs": [
    {
     "data": {
      "text/plain": [
       "float"
      ]
     },
     "execution_count": 33,
     "metadata": {},
     "output_type": "execute_result"
    }
   ],
   "source": [
    "type(a)"
   ]
  },
  {
   "cell_type": "code",
   "execution_count": 36,
   "id": "3acb0795-aed7-4169-ac22-df08a10c175b",
   "metadata": {},
   "outputs": [],
   "source": [
    "b=bin(int(a))"
   ]
  },
  {
   "cell_type": "code",
   "execution_count": 37,
   "id": "934ad328-f15a-4d49-9e43-afed846ed808",
   "metadata": {},
   "outputs": [
    {
     "data": {
      "text/plain": [
       "'0b101'"
      ]
     },
     "execution_count": 37,
     "metadata": {},
     "output_type": "execute_result"
    }
   ],
   "source": [
    "b"
   ]
  },
  {
   "cell_type": "markdown",
   "id": "05409b8b-2749-42a1-a920-1a3ac0af1320",
   "metadata": {},
   "source": [
    "7.Convert a non-zero number to boolean."
   ]
  },
  {
   "cell_type": "code",
   "execution_count": 38,
   "id": "31c21029-9a62-47cb-aed8-de8c28681e61",
   "metadata": {},
   "outputs": [],
   "source": [
    "a=6"
   ]
  },
  {
   "cell_type": "code",
   "execution_count": 39,
   "id": "ae868fa5-94bc-4354-826c-0ebbe1f4422a",
   "metadata": {},
   "outputs": [],
   "source": [
    "b=bool(a)"
   ]
  },
  {
   "cell_type": "code",
   "execution_count": 40,
   "id": "fc89833a-ee3e-40a4-a46d-aab0a2eb3823",
   "metadata": {},
   "outputs": [
    {
     "data": {
      "text/plain": [
       "True"
      ]
     },
     "execution_count": 40,
     "metadata": {},
     "output_type": "execute_result"
    }
   ],
   "source": [
    "b"
   ]
  },
  {
   "cell_type": "code",
   "execution_count": null,
   "id": "8635b78f-cf35-42f2-bcbd-55c5b2c7bc48",
   "metadata": {},
   "outputs": [],
   "source": []
  }
 ],
 "metadata": {
  "kernelspec": {
   "display_name": "Python 3 (ipykernel)",
   "language": "python",
   "name": "python3"
  },
  "language_info": {
   "codemirror_mode": {
    "name": "ipython",
    "version": 3
   },
   "file_extension": ".py",
   "mimetype": "text/x-python",
   "name": "python",
   "nbconvert_exporter": "python",
   "pygments_lexer": "ipython3",
   "version": "3.11.7"
  }
 },
 "nbformat": 4,
 "nbformat_minor": 5
}
